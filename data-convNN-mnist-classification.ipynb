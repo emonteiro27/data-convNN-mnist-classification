{
 "cells": [
  {
   "cell_type": "code",
   "execution_count": 7,
   "id": "6405e916",
   "metadata": {},
   "outputs": [],
   "source": [
    "# import the necessary libraries\n",
    "\n",
    "import numpy as np\n",
    "import pandas as pd\n",
    "import matplotlib.pyplot as plt\n",
    "import seaborn as sns"
   ]
  },
  {
   "cell_type": "markdown",
   "id": "def9e333",
   "metadata": {},
   "source": [
    "__The Task__:\n",
    "\n",
    "\n",
    "- This notebook uses the MNIST dataset, composed of handwritten digits between 0 and 9.\n",
    "\n",
    "\n",
    "- Inputs: images (each image shows a handwritten digit).\n",
    "\n",
    "\n",
    "- Target: for each image, we want the CNN model to predict the correct digit (between 0 and 9).\n",
    "    - it's a __multi-class classification__ task, more precisely a 10-class classification task since there are 10 different digits."
   ]
  },
  {
   "cell_type": "markdown",
   "id": "f66ad69e",
   "metadata": {},
   "source": [
    "# Load the MNIST dataset"
   ]
  },
  {
   "cell_type": "code",
   "execution_count": 8,
   "id": "c14b85e8",
   "metadata": {},
   "outputs": [
    {
     "name": "stdout",
     "output_type": "stream",
     "text": [
      "X_train.shape = (60000, 28, 28)\n",
      "y_train.shape = (60000,)\n",
      "X_test.shape = (10000, 28, 28)\n",
      "y_test.shape = (10000,)\n"
     ]
    }
   ],
   "source": [
    "from tensorflow.keras import datasets\n",
    "\n",
    "# loading the MNIST dataset\n",
    "(X_train, y_train), (X_test, y_test) = datasets.mnist.load_data(path='mnist.npz')\n",
    "\n",
    "# print train and test shapes\n",
    "print(f'X_train.shape = {X_train.shape}')\n",
    "print(f'y_train.shape = {y_train.shape}')\n",
    "print(f'X_test.shape = {X_test.shape}')\n",
    "print(f'y_test.shape = {y_test.shape}')"
   ]
  },
  {
   "cell_type": "markdown",
   "id": "9604fc23",
   "metadata": {},
   "source": [
    "- we have 60,000 training images and 10,000 test images, each of size (28,28)"
   ]
  },
  {
   "cell_type": "markdown",
   "id": "dcb9bded",
   "metadata": {},
   "source": [
    "## Exploring the dataset"
   ]
  },
  {
   "cell_type": "code",
   "execution_count": 9,
   "id": "5ac26259",
   "metadata": {},
   "outputs": [
    {
     "data": {
      "image/png": "[encoded data removed]",
      "text/plain": [
       "<Figure size 300x300 with 1 Axes>"
      ]
     },
     "metadata": {},
     "output_type": "display_data"
    },
    {
     "data": {
      "image/png": "[encoded data removed]",
      "text/plain": [
       "<Figure size 300x300 with 1 Axes>"
      ]
     },
     "metadata": {},
     "output_type": "display_data"
    },
    {
     "data": {
      "image/png": "[encoded data removed]",
      "text/plain": [
       "<Figure size 300x300 with 1 Axes>"
      ]
     },
     "metadata": {},
     "output_type": "display_data"
    },
    {
     "data": {
      "image/png": "[encoded data removed]",
      "text/plain": [
       "<Figure size 300x300 with 1 Axes>"
      ]
     },
     "metadata": {},
     "output_type": "display_data"
    }
   ],
   "source": [
    "number_of_train_images = len(X_train)\n",
    "number_of_train_images_to_show = 4\n",
    "random_list_of_images_to_show = np.random.randint(0, number_of_train_images, number_of_train_images_to_show)\n",
    "\n",
    "for i in random_list_of_images_to_show:\n",
    "    plt.figure(figsize=(3,3))\n",
    "    plt.imshow(X_train[i], cmap='gray')\n",
    "    plt.show()"
   ]
  },
  {
   "cell_type": "markdown",
   "id": "ad82b7be",
   "metadata": {},
   "source": [
    "# Image Preprocessing"
   ]
  },
  {
   "cell_type": "markdown",
   "id": "239ea74c",
   "metadata": {},
   "source": [
    "Neural Networks converge faster when the input data is somehow normalized.\n",
    "\n",
    "\n",
    "How do we proceed for Convolutional Neural Networks?\n",
    "- the __RGB__ intensities are coded between 0 and 255.\n",
    "- we can simply divide the input data by the maximal value 255 to have all the pixels' intensities between 0 and 1."
   ]
  },
  {
   "cell_type": "code",
   "execution_count": 10,
   "id": "53ec7339",
   "metadata": {},
   "outputs": [],
   "source": [
    "X_train = X_train/255.\n",
    "X_test = X_test/255."
   ]
  },
  {
   "cell_type": "markdown",
   "id": "127c075e",
   "metadata": {},
   "source": [
    "- __Convolutional Neural Network models need to be fed with images whose last dimension is the number of channels__\n",
    "\n",
    "\n",
    "- The shape of tensors fed into ConvNets is the following: __(NUMBER_OF_IMAGES, HEIGHT, WIDTH, CHANNELS)__\n",
    "\n",
    "\n",
    "- The last dimension (CHANNELS) is missing. The reason why:\n",
    "    - all these 60,000 (28 x 28) pictures are black and white -> each pixel lives on a spectrum from full black (0) to full white (1).\n",
    "    - theoretically, you don't need to know the umber of channels for a black-and-white picture since there is only 1 channel (the 'whiteness' of 'blackness' of a pixel). However, it is still mandatory for the model to have this number of channels explicitly stated.\n",
    "    - in comparison, colored pictures need multiple channels:\n",
    "        - RGB system with 3 channels (RED GREEN BLUE)\n",
    "        - CMYK system with 4 channels (CYAN MAGENTA YELLOW BLACK)"
   ]
  },
  {
   "cell_type": "code",
   "execution_count": null,
   "id": "82a835ca",
   "metadata": {},
   "outputs": [],
   "source": []
  },
  {
   "cell_type": "code",
   "execution_count": null,
   "id": "7ed7e2c2",
   "metadata": {},
   "outputs": [],
   "source": []
  },
  {
   "cell_type": "code",
   "execution_count": null,
   "id": "09c14099",
   "metadata": {},
   "outputs": [],
   "source": []
  },
  {
   "cell_type": "code",
   "execution_count": null,
   "id": "470e2167",
   "metadata": {},
   "outputs": [],
   "source": []
  }
 ],
 "metadata": {
  "kernelspec": {
   "display_name": "Python 3 (ipykernel)",
   "language": "python",
   "name": "python3"
  },
  "language_info": {
   "codemirror_mode": {
    "name": "ipython",
    "version": 3
   },
   "file_extension": ".py",
   "mimetype": "text/x-python",
   "name": "python",
   "nbconvert_exporter": "python",
   "pygments_lexer": "ipython3",
   "version": "3.10.6"
  },
  "toc": {
   "base_numbering": 1,
   "nav_menu": {},
   "number_sections": true,
   "sideBar": true,
   "skip_h1_title": false,
   "title_cell": "Table of Contents",
   "title_sidebar": "Contents",
   "toc_cell": false,
   "toc_position": {},
   "toc_section_display": true,
   "toc_window_display": false
  }
 },
 "nbformat": 4,
 "nbformat_minor": 5
}
